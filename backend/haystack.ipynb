{
  "nbformat": 4,
  "nbformat_minor": 0,
  "metadata": {
    "colab": {
      "provenance": []
    },
    "kernelspec": {
      "name": "python3",
      "display_name": "Python 3"
    },
    "language_info": {
      "name": "python"
    }
  },
  "cells": [
    {
      "cell_type": "code",
      "source": [
        "%%bash\n",
        "\n",
        "pip install --upgrade pip\n",
        "pip install git+https://github.com/deepset-ai/haystack.git#egg=farm-haystack[colab]"
      ],
      "metadata": {
        "id": "p5FRvdNPUvDS"
      },
      "execution_count": null,
      "outputs": []
    },
    {
      "cell_type": "code",
      "source": [
        "# Recommended: Start Elasticsearch using Docker via the Haystack utility function\n",
        "from haystack.utils import launch_es\n",
        "\n",
        "launch_es()"
      ],
      "metadata": {
        "id": "_7nlnapyUyW_",
        "colab": {
          "base_uri": "https://localhost:8080/"
        },
        "outputId": "f86d91df-79f0-4c8a-e404-1fd425ef0e4f"
      },
      "execution_count": null,
      "outputs": [
        {
          "output_type": "stream",
          "name": "stderr",
          "text": [
            "WARNING:haystack.utils.doc_store:Tried to start Elasticsearch through Docker but this failed. It is likely that there is already an existing Elasticsearch instance running. \n"
          ]
        }
      ]
    },
    {
      "cell_type": "code",
      "execution_count": null,
      "metadata": {
        "id": "egfc37RHQ79k"
      },
      "outputs": [],
      "source": [
        "%%bash\n",
        "\n",
        "wget https://artifacts.elastic.co/downloads/elasticsearch/elasticsearch-7.9.2-linux-x86_64.tar.gz -q\n",
        "tar -xzf elasticsearch-7.9.2-linux-x86_64.tar.gz\n",
        "chown -R daemon:daemon elasticsearch-7.9.2"
      ]
    },
    {
      "cell_type": "code",
      "source": [
        "%%bash --bg\n",
        "\n",
        "sudo -u daemon -- elasticsearch-7.9.2/bin/elasticsearch"
      ],
      "metadata": {
        "id": "_KkbZO_AT0h8"
      },
      "execution_count": null,
      "outputs": []
    },
    {
      "cell_type": "code",
      "source": [
        "import time\n",
        "time.sleep(30)"
      ],
      "metadata": {
        "id": "aYGJEH2zT3Xt"
      },
      "execution_count": null,
      "outputs": []
    },
    {
      "cell_type": "code",
      "source": [
        "import os\n",
        "from haystack.document_stores import ElasticsearchDocumentStore\n",
        "\n",
        "# Get the host where Elasticsearch is running, default to localhost\n",
        "host = os.environ.get(\"ELASTICSEARCH_HOST\", \"localhost\")\n",
        "document_store = ElasticsearchDocumentStore(host=host, username=\"\", password=\"\", index=\"document\")"
      ],
      "metadata": {
        "id": "i2Dyk3ziT5Kx"
      },
      "execution_count": null,
      "outputs": []
    },
    {
      "cell_type": "code",
      "source": [
        "from haystack.utils import clean_wiki_text, convert_files_to_docs, fetch_archive_from_http\n",
        "\n",
        "\n",
        "# Let's first fetch some documents that we want to query\n",
        "# Here: 517 Wikipedia articles for Game of Thrones\n",
        "doc_dir = \"data/tutorial1\"\n",
        "s3_url = \"https://s3.eu-central-1.amazonaws.com/deepset.ai-farm-qa/datasets/documents/wiki_gameofthrones_txt1.zip\"\n",
        "fetch_archive_from_http(url=s3_url, output_dir=doc_dir)\n",
        "\n",
        "# Convert files to dicts\n",
        "# You can optionally supply a cleaning function that is applied to each doc (e.g. to remove footers)\n",
        "# It must take a str as input, and return a str.\n",
        "docs = convert_files_to_docs(dir_path=doc_dir, clean_func=clean_wiki_text, split_paragraphs=True)\n",
        "\n",
        "# We now have a list of dictionaries that we can write to our document store.\n",
        "# If your texts come from a different source (e.g. a DB), you can of course skip convert_files_to_dicts() and create the dictionaries yourself.\n",
        "# The default format here is:\n",
        "# {\n",
        "#    'content': \"<DOCUMENT_TEXT_HERE>\",\n",
        "#    'meta': {'name': \"<DOCUMENT_NAME_HERE>\", ...}\n",
        "# }\n",
        "# (Optionally: you can also add more key-value-pairs here, that will be indexed as fields in Elasticsearch and\n",
        "# can be accessed later for filtering or shown in the responses of the Pipeline)\n",
        "\n",
        "# Let's have a look at the first 3 entries:\n",
        "print(docs[:3])\n",
        "\n",
        "# Now, let's write the dicts containing documents to our DB.\n",
        "document_store.write_documents(docs)"
      ],
      "metadata": {
        "id": "Z5NJKaCiT7Fx",
        "colab": {
          "base_uri": "https://localhost:8080/"
        },
        "outputId": "ba245349-c4b8-46e8-f32d-942f61f9595f"
      },
      "execution_count": null,
      "outputs": [
        {
          "output_type": "stream",
          "name": "stdout",
          "text": [
            "[<Document: {'content': '\\'\\'\\'Rickon Stark\\'\\'\\' is a fictional character in the \\'\\'A Song of Ice and Fire\\'\\' series of fantasy novels by American author George R. R. Martin, and its television adaptation \\'\\'Game of Thrones\\'\\'.\\nIntroduced in 1996\\'s \\'\\'A Game of Thrones\\'\\', Rickon is the youngest child of Eddard Stark, the honorable lord of Winterfell, an ancient fortress in the North of the fictional kingdom of Westeros. He subsequently appeared in Martin\\'s \\'\\'A Clash of Kings\\'\\' (1998). The \\'\\'Publishers Weekly\\'\\' review of \\'\\'A Game of Thrones\\'\\' noted, \"It is fascinating to watch Martin\\'s characters mature and grow, particularly Stark\\'s children, who stand at the center of the book.\"\\nRickon is portrayed by Irish actor Art Parkinson in the HBO television adaptation.', 'content_type': 'text', 'score': None, 'meta': {'name': '334_Rickon_Stark.txt'}, 'embedding': None, 'id': '85a40281eda602fffad9c5832328055d'}>, <Document: {'content': '\\n== Character description ==\\nRickon is the fifth and youngest child of Eddard \"Ned\" Stark and his wife Catelyn, and has five siblings—Robb, Sansa, Arya, Bran, and his illegitimate half-brother Jon Snow. Like his brothers and sisters, Rickon is constantly accompanied by his direwolf, Shaggydog, with whom he shares a strong connection. Martin describes Rickon as favoring his mother in appearance. He is naturally aggressive, strong-willed, and violent: traits reflected in his direwolf companion \\'Shaggydog\\'.', 'content_type': 'text', 'score': None, 'meta': {'name': '334_Rickon_Stark.txt'}, 'embedding': None, 'id': '477016c48fc13bccfa12725d54a283b2'}>, <Document: {'content': '\\n== Overview ==\\nRickon Stark is not a point of view character in the novels and is mostly a background character.  His actions are witnessed and interpreted through the eyes of his older brother Bran.', 'content_type': 'text', 'score': None, 'meta': {'name': '334_Rickon_Stark.txt'}, 'embedding': None, 'id': '8866fd1bed3fed93e3bab3efa09b1bd8'}>]\n"
          ]
        }
      ]
    },
    {
      "cell_type": "code",
      "source": [
        "from haystack.nodes import BM25Retriever\n",
        "\n",
        "retriever = BM25Retriever(document_store=document_store)"
      ],
      "metadata": {
        "id": "Ls1-TxgnT8tp"
      },
      "execution_count": null,
      "outputs": []
    },
    {
      "cell_type": "code",
      "source": [
        "from haystack.nodes import FARMReader\n",
        "\n",
        "# Load a  local model or any of the QA models on\n",
        "# Hugging Face's model hub (https://huggingface.co/models)\n",
        "\n",
        "reader = FARMReader(model_name_or_path=\"deepset/roberta-base-squad2\", use_gpu=True)"
      ],
      "metadata": {
        "id": "wpZaztviT-np"
      },
      "execution_count": null,
      "outputs": []
    },
    {
      "cell_type": "code",
      "source": [
        "from haystack.pipelines import ExtractiveQAPipeline\n",
        "\n",
        "pipe = ExtractiveQAPipeline(reader, retriever)"
      ],
      "metadata": {
        "id": "UVbpaLXiUAVt"
      },
      "execution_count": null,
      "outputs": []
    },
    {
      "cell_type": "code",
      "source": [
        "pred1 = pipe.run(\n",
        "    query=\"Who is the father of Arya Stark?\", params={\"Retriever\": {\"top_k\": 5}, \"Reader\": {\"top_k\": 5}}\n",
        ")\n",
        "\n",
        "pred2 = pipe.run(\n",
        "    query=\"Who plays Daenerys?\", params={\"Retriever\": {\"top_k\": 5}, \"Reader\": {\"top_k\": 5}}\n",
        ")"
      ],
      "metadata": {
        "id": "hcETJ3E-UH8r",
        "colab": {
          "base_uri": "https://localhost:8080/"
        },
        "outputId": "fb4f22ea-2c27-4c9e-8ea7-7f3c2eee0ecc"
      },
      "execution_count": null,
      "outputs": [
        {
          "output_type": "stream",
          "name": "stderr",
          "text": [
            "Inferencing Samples: 100%|██████████| 1/1 [00:17<00:00, 17.53s/ Batches]\n",
            "Inferencing Samples: 100%|██████████| 1/1 [00:26<00:00, 26.68s/ Batches]\n"
          ]
        }
      ]
    },
    {
      "cell_type": "code",
      "source": [
        "from pprint import pprint\n",
        "\n",
        "pprint(pred1)\n",
        "pprint(pred2)"
      ],
      "metadata": {
        "colab": {
          "base_uri": "https://localhost:8080/"
        },
        "id": "k1EkzHF1UNFx",
        "outputId": "3738c3ed-5d93-4874-d4e9-6c2e12a61489"
      },
      "execution_count": null,
      "outputs": [
        {
          "output_type": "stream",
          "name": "stdout",
          "text": [
            "{'answers': [<Answer {'answer': 'Ned', 'type': 'extractive', 'score': 0.9767239689826965, 'context': \"\\n====Season 1====\\nArya accompanies her father Ned and her sister Sansa to King's Landing. Before their departure, Arya's half-brother Jon Snow gifts A\", 'offsets_in_document': [{'start': 46, 'end': 49}], 'offsets_in_context': [{'start': 46, 'end': 49}], 'document_id': '180c2a6b36369712b361a80842e79356', 'meta': {'name': '43_Arya_Stark.txt'}}>,\n",
            "             <Answer {'answer': 'Lord Eddard Stark', 'type': 'extractive', 'score': 0.8930399417877197, 'context': 'ark daughters.\\nDuring the Tourney of the Hand to honour her father Lord Eddard Stark, Sansa Stark is enchanted by the knights performing in the event.', 'offsets_in_document': [{'start': 659, 'end': 676}], 'offsets_in_context': [{'start': 67, 'end': 84}], 'document_id': 'd1f36ec7170e4c46cde65787fe125dfe', 'meta': {'name': '332_Sansa_Stark.txt'}}>,\n",
            "             <Answer {'answer': 'Joffrey', 'type': 'extractive', 'score': 0.675382673740387, 'context': \"laying with one of his wooden toys.\\nAfter Eddard discovers the truth of Joffrey's paternity, he tells Sansa that they will be heading back to Winterfe\", 'offsets_in_document': [{'start': 1161, 'end': 1168}], 'offsets_in_context': [{'start': 72, 'end': 79}], 'document_id': 'd1f36ec7170e4c46cde65787fe125dfe', 'meta': {'name': '332_Sansa_Stark.txt'}}>,\n",
            "             <Answer {'answer': 'Robb', 'type': 'extractive', 'score': 0.6666005253791809, 'context': 'allow the army to cross the river and to commit his troops in return for Robb and Arya Stark marrying two of his children.\\nTyrion Lannister suspects h', 'offsets_in_document': [{'start': 193, 'end': 197}], 'offsets_in_context': [{'start': 73, 'end': 77}], 'document_id': '6b181174d1237878b706e6a12d69e92', 'meta': {'name': '450_Baelor.txt'}}>,\n",
            "             <Answer {'answer': 'Ned Stark', 'type': 'extractive', 'score': 0.4897468388080597, 'context': \" to reveal her true identity, and is surprised to learn she is in fact Ned Stark's daughter. After the Goldcloaks get help from Ser Amory Lorch and hi\", 'offsets_in_document': [{'start': 524, 'end': 533}], 'offsets_in_context': [{'start': 71, 'end': 80}], 'document_id': 'dd4e070a22896afa81748d6510006d2', 'meta': {'name': '191_Gendry.txt'}}>],\n",
            " 'documents': [<Document: {'content': \"\\n===In the Riverlands===\\nThe Stark army reaches the Twins, a bridge stronghold controlled by Walder Frey, who agrees to allow the army to cross the river and to commit his troops in return for Robb and Arya Stark marrying two of his children.\\nTyrion Lannister suspects his father Tywin, who decides Tyrion and his barbarians will fight in the vanguard, wants him killed. As Tyrion, Bronn, and the prostitute Shae swap stories, Tyrion reveals he was married to a woman his father revealed was a prostitute, and made Tyrion watch as his guardsmen raped her.\\nAs a Stark force approaches, Tyrion is trampled in the rush and regains consciousness to find the battle over. Tywin discovers the Stark host was only 2,000 men, not the 20,000 he was led to expect.\\nRobb, having divided his forces, defeats Jaime Lannister's army with his remaining 18,000 men and captures Jaime.\", 'content_type': 'text', 'score': 0.8110895501528345, 'meta': {'name': '450_Baelor.txt'}, 'embedding': None, 'id': '6b181174d1237878b706e6a12d69e92'}>,\n",
            "               <Document: {'content': '\\n===On the Kingsroad===\\nCity Watchmen search the caravan for Gendry but are turned away by Yoren. Gendry tells Arya Stark that he knows she is a girl, and she reveals she is actually Arya Stark after learning that her father met Gendry before he was executed.', 'content_type': 'text', 'score': 0.8058019827683869, 'meta': {'name': '224_The_Night_Lands.txt'}, 'embedding': None, 'id': 'a4d2cc51d351b785c6effddd3345bb39'}>,\n",
            "               <Document: {'content': '\\n===\\'\\'A Game of Thrones\\'\\'===\\nSansa Stark begins the novel by being betrothed to Crown Prince Joffrey Baratheon, believing Joffrey to be a gallant prince. While Joffrey and Sansa are walking through the woods, Joffrey notices Arya sparring with the butcher\\'s boy, Mycah. A fight breaks out and Joffrey is attacked by Nymeria (Arya\\'s direwolf) after Joffrey threatens to hurt Arya. Sansa lies to King Robert about the circumstances of the fight in order to protect both Joffrey and her sister Arya.  Since Arya ran off with her wolf to save it, Sansa\\'s wolf is killed instead, estranging the Stark daughters.\\nDuring the Tourney of the Hand to honour her father Lord Eddard Stark, Sansa Stark is enchanted by the knights performing in the event.  At the request of his mother, Queen Cersei Lannister, Joffrey spends a portion of the tourney with Sansa, but near the end he commands his guard Sandor Clegane, better known as The Hound, to take her back to her quarters. Sandor explains how his older brother, Gregor, aka \"Mountain that Rides\" pushed his face into a brazier of hot coals, for playing with one of his wooden toys.\\nAfter Eddard discovers the truth of Joffrey\\'s paternity, he tells Sansa that they will be heading back to Winterfell. Sansa is devastated and wishes to stay in King\\'s Landing, so she runs off to inform Queen Cersei of her father\\'s plans, unwittingly providing Cersei with the information needed to arrest her father. After Robert dies, Sansa begs Joffrey to show mercy on her father and he agrees, if Ned will swear an oath of loyalty, but executes him anyway, in front of Sansa.  Sansa is now effectively a hostage in King\\'s Landing and finally sees Joffrey\\'s true nature, after he forces her to look at the tarred head of her now-deceased father.', 'content_type': 'text', 'score': 0.8020677650524326, 'meta': {'name': '332_Sansa_Stark.txt'}, 'embedding': None, 'id': 'd1f36ec7170e4c46cde65787fe125dfe'}>,\n",
            "               <Document: {'content': \"\\n===Season 2===\\nGendry travels North with Yoren and other Night's Watch recruits, including Arya Stark (disguised as an orphan boy named 'Arry), Lommy Greenhands, Hot Pie and Jaqen H'ghar. During their journey, they are stopped by the Goldcloaks of the City Watch, who demand that Yoren hand Gendry over to them - King Joffrey has ordered that all of his father Robert's bastards be killed, but Yoren turns the Goldcloaks away. Later, Gendry forces Arya to reveal her true identity, and is surprised to learn she is in fact Ned Stark's daughter. After the Goldcloaks get help from Ser Amory Lorch and his men, they ambush the travelling party. In the chaos, Yoren is killed. Gendry's life is then saved by Arya, who convinces the Goldcloaks that Lommy, who was killed during the attack, was in fact Gendry. Gendry and the rest of the recruits are then escorted to Harrenhal, the ruined castle-turned-prison. Ser Gregor Clegane oversees order here, and arbitrarily has many of the prisoners tortured and killed. Gendry is nearly tortured and killed but is saved by the arrival of Lord Tywin Lannister, who chides Clegane's men for their reckless treatment of the prisoners. Thanks to Jaqen H'ghars help, Arya, Gendry and Hot Pie are able to escape Harrenhal.\", 'content_type': 'text', 'score': 0.8001674895900547, 'meta': {'name': '191_Gendry.txt'}, 'embedding': None, 'id': 'dd4e070a22896afa81748d6510006d2'}>,\n",
            "               <Document: {'content': '\\n====Season 1====\\nArya accompanies her father Ned and her sister Sansa to King\\'s Landing. Before their departure, Arya\\'s half-brother Jon Snow gifts Arya a sword which she dubs \"Needle\". On the Kingsroad, Arya is sparring with a butcher\\'s boy, Mycah, when Sansa\\'s betrothed Prince Joffrey Baratheon attacks Mycah, prompting Arya\\'s direwolf Nymeria to bite Joffrey. Arya shoos Nymeria away so she is not killed, but is furious when Sansa later refuses to support her version of events. Mycah is later killed by Joffrey\\'s bodyguard Sandor \"The Hound\" Clegane, earning him Arya\\'s hatred. Ned arranges for Arya to have sword lessons with the Braavosi Syrio Forel, who later defends her from Ser Meryn Trant after Joffrey ascends to the throne and kills the Stark household. Arya flees the Red Keep, accidentally killing a stable boy in her escape, hiding out as a beggar in the streets of King\\'s Landing. Ned is eventually taken to the Great Sept of Baelor to face judgment; he spots Arya in the crowd, and alerts the Night\\'s Watch recruiter Yoren to her presence. Yoren prevents Arya from witnessing Ned\\'s execution and has her pose as a boy, \"Arry\", to avoid detection as she joins Yoren\\'s recruits traveling north to Castle Black.', 'content_type': 'text', 'score': 0.7907264571073125, 'meta': {'name': '43_Arya_Stark.txt'}, 'embedding': None, 'id': '180c2a6b36369712b361a80842e79356'}>],\n",
            " 'no_ans_gap': 10.409574508666992,\n",
            " 'node_id': 'Reader',\n",
            " 'params': {'Reader': {'top_k': 5}, 'Retriever': {'top_k': 5}},\n",
            " 'query': 'Who is the father of Arya Stark?',\n",
            " 'root_node': 'Query'}\n",
            "{'answers': [<Answer {'answer': 'Emilia Clarke', 'type': 'extractive', 'score': 0.9885804653167725, 'context': 'an Stark), and \"rude\" by actor Jacob Anderson (who plays Grey Worm). Emilia Clarke (who plays Daenerys Targaryen) indicated she was previously unaware', 'offsets_in_document': [{'start': 1000, 'end': 1013}], 'offsets_in_context': [{'start': 69, 'end': 82}], 'document_id': '9d01a4c832c92e21e98fa1ce09861d57', 'meta': {'name': '0_Game_of_Thrones__season_8_.txt'}}>,\n",
            "             <Answer {'answer': 'Emilia Clarke', 'type': 'extractive', 'score': 0.9232094287872314, 'context': 'should be so big and fast it\\'s hard to keep up with them.\" To insert Emilia Clarke (as Daenerys Targaryen) into the scene, she rode a \"multi-direction', 'offsets_in_document': [{'start': 717, 'end': 730}], 'offsets_in_context': [{'start': 69, 'end': 82}], 'document_id': '2cc158e35313f8b97a15080b81782911', 'meta': {'name': '460_Battle_of_the_Bastards.txt'}}>,\n",
            "             <Answer {'answer': 'Hannah Murray', 'type': 'extractive', 'score': 0.5923119783401489, 'context': 'f Gilly in the television series.\\nGilly is played by English actress Hannah Murray in the television adaption of the series of books.\\nIn an interview,', 'offsets_in_document': [{'start': 118, 'end': 131}], 'offsets_in_context': [{'start': 69, 'end': 82}], 'document_id': 'd2f1984f0bb4626c6ccca3342ee0c49e', 'meta': {'name': '262_Gilly__character_.txt'}}>,\n",
            "             <Answer {'answer': 'Jaime', 'type': 'extractive', 'score': 0.2324022501707077, 'context': 'ints that fans are dissatisfied with: the character arcs of Daenerys and Jaime; the manner of death for Jaime, Missandei, Rhaegal, and the Night King;', 'offsets_in_document': [{'start': 2256, 'end': 2261}], 'offsets_in_context': [{'start': 73, 'end': 78}], 'document_id': '9d01a4c832c92e21e98fa1ce09861d57', 'meta': {'name': '0_Game_of_Thrones__season_8_.txt'}}>,\n",
            "             <Answer {'answer': 'Missandei', 'type': 'extractive', 'score': 0.2134810984134674, 'context': 'ct with on the show. But I would\\'ve loved some more scenes with me and Missandei. I would\\'ve loved some more scenes with me and Cersei\".\\nRichard Roepe', 'offsets_in_document': [{'start': 1351, 'end': 1360}], 'offsets_in_context': [{'start': 71, 'end': 80}], 'document_id': '9d01a4c832c92e21e98fa1ce09861d57', 'meta': {'name': '0_Game_of_Thrones__season_8_.txt'}}>],\n",
            " 'documents': [<Document: {'content': '\\n===Audience response===\\nA petition to HBO for \"competent writers\" to remake the eighth season of \\'\\'Game of Thrones\\'\\' in a manner \"that makes sense\" was started on Change.org after \"The Last of the Starks\" aired, but went viral after \"The Bells\" aired. The petition described showrunners David Benioff and D. B. Weiss as \"woefully incompetent writers\". As of September 6, 2019, it has amassed over 1.73 million signatures. \\'\\'Digital Spy\\'\\' reported that fans of the series criticized the season for the way it handled several character arcs and the \"rushed\" pacing. The petition\\'s creator stated that he never expected HBO to remake the season, but saw the petition as a message \"of frustration and disappointment at its core\". \\nThe petition was labelled as \"disrespectful to the crew and the filmmakers\" by actress Sophie Turner (who plays Sansa Stark), \"ridiculous\", \"weird, juvenile\" by actor Isaac Hempstead Wright (who plays Bran Stark), and \"rude\" by actor Jacob Anderson (who plays Grey Worm). Emilia Clarke (who plays Daenerys Targaryen) indicated she was previously unaware of the petition, but gave a warmer response when she was asked what she would want to see happen if the eighth season were redone: \"I can only speak to my own character, and the people that I interact with on the show. But I would\\'ve loved some more scenes with me and Missandei. I would\\'ve loved some more scenes with me and Cersei\".\\nRichard Roeper, writing for the \\'\\'Chicago Sun Times\\'\\', wrote: \"Over the last 25+ years, I\\'ve reviewed thousands of movies and dozens of TV shows, and I don\\'t think I\\'ve ever seen the level of fan (and to a lesser degree, critical) vitriol leveled at this show in recent weeks\". However, Roeper noted that social media was not yet widely used during much of this time period.\\nLenika Cruz, writing for \\'\\'The Atlantic\\'\\', wrote that with the end of the series, \"there are folks who don\\'t feel as though the hours and hours they\\'ve devoted to this show have been wasted\", but \"there are many others\" who felt the opposite. Kelly Lawler of \\'\\'USA Today\\'\\' wrote that the ultimate ending of the series was not what fans \"signed up for\".\\nCBS News has described several plot points that fans are dissatisfied with: the character arcs of Daenerys and Jaime; the manner of death for Jaime, Missandei, Rhaegal, and the Night King; the Battle of Winterfell being visually too dark; the \"basic existence of Euron Greyjoy\"; and \"Jon\\'s treatment of Ghost\".', 'content_type': 'text', 'score': 0.7498568091737529, 'meta': {'name': '0_Game_of_Thrones__season_8_.txt'}, 'embedding': None, 'id': '9d01a4c832c92e21e98fa1ce09861d57'}>,\n",
            "               <Document: {'content': '\\n====Battle of Meereen====\\nFor the Daenerys scene at the beginning of the episode where the three dragons burn part of the Masters\\' fleet, Sapochnik credited VFX supervisor Joe Bauer and producer Steve Kullback for post-production work: \"For this sequence David and Dan said that what they wanted to see was a \\'demonstration\\' of what\\'s to come. So I tried to approach it in the most elegant, epic, big-movie way I could.\" The director tried to design the shots with relative realism, inspired by footage of World War II Supermarine Spitfires in action. He based the dragon shots on wildlife footage, allowing them to break the frame: \"These things should be so big and fast it\\'s hard to keep up with them.\" To insert Emilia Clarke (as Daenerys Targaryen) into the scene, she rode a \"multi-directional, computer-controlled hydraulic gimbal device shaped like the upper shoulders of the dragon\"; Clarke was filmed separately in Belfast, Northern Ireland.\\n\"Battle of the Bastards\" featured the first meeting of Daenerys Targaryen and Yara and Theon Greyjoy, and Yara\\'s first meeting with Tyrion Lannister. Gemma Whelan, who plays Yara, talked about filming the scene: \"Oh my goodness – I was so excited when I saw that I had a scene with those two Daenerys and Tyrion.\" About the dynamic between the two women, Whelan said: \"It\\'s clear as the scene plays out that Yara quite likes Dany. We share a lot of little looks and there\\'s some playful language in how we talk to one another – Dany asks if the Iron Islands ever had a queen, and Yara says, \\'No more than Westeros.\\' They recognize the girl-power undertow between the two of them.\"', 'content_type': 'text', 'score': 0.7315281479279603, 'meta': {'name': '460_Battle_of_the_Bastards.txt'}, 'embedding': None, 'id': '2cc158e35313f8b97a15080b81782911'}>,\n",
            "               <Document: {'content': '\\n===Audience response===\\n\\'\\'People\\'\\' magazine\\'s Aurelie Corinthios said, \"Despite the major plot developments, viewers were left wanting more from a series that has spent the last eight seasons meticulously building up complex characters.\" She added that \"others defended the episode, arguing that while the action was definitely \\'rushed,\\' the main elements still made sense. Plus, didn\\'t we always know we wouldn\\'t get a happy ending?\" Lauren Hill of \\'\\'Chicago Tribune\\'\\' relayed that the episode \"had fans very divided. Some are upset by the character arcs of certain fan favorites while others saw this coming for quite some time.\"\\nReviewers made note of the negative fan reactions, especially to Daenerys\\'s arc. Estelle Tang of \\'\\'Elle\\'\\' stated that many \"commented how unbelievable it was for Dany to turn into a violent vengeance-seeker this far into the show\\'s run.\" \\'\\'Esquire\\'\\'\\'s Gabrielle Bruney said viewers felt that the writers threw out her character development. \\'\\'The Hollywood Reporter\\'\\' staff stated that \"many \\'\\'Game of Thrones\\'\\' viewers see Daenerys\\' acts as nothing short of a character assassination, laying blame for the treatment of the Dragon Queen, Cersei and the series\\' other powerful women at the feet of creators David Benioff and Dan Weiss.\" Mehera Bonner of \\'\\'Cosmopolitan\\'\\' wrote that \"fans are absolutely devastated\" by the episode and that they bemoaned \"how the show has been completely ruined by sloppy writing and terrible decisions.\" She said, \"While you could argue that we should have seen a lot of this coming, many fans were... I don\\'t know... just hoping for better? Better than Daenerys becoming a Mad Queen just because it\\'s in her family history and better than Jaime reverting to his season 1 personality just because it’s the easy way out.\"\\nA petition to HBO for a remake of the eighth season of \\'\\'Game of Thrones\\'\\' \"that makes sense\" was started on Change.org after the fourth episode \"The Last of the Starks\" aired, but went viral after the fifth episode \"The Bells\" aired. The petition described showrunners David Benioff and D. B. Weiss as \"woefully incompetent writers\". As of May 18, 2019 (i.e., the evening before the series finale), it has amassed over 1 million signatures. The petition was labelled as \"ridiculous\" by actor Isaac Hempstead Wright (who plays Bran Stark), and \"rude\" by actor Jacob Anderson (who plays Grey Worm). Sophie Turner (who plays Sansa) said that \"there\\'s always been crazy twists and turns\" on \\'\\'Game of Thrones\\'\\' and \"so Daenerys becoming something of the Mad Queen — it shouldn\\'t be such a negative thing for fans. It\\'s a shock for sure, but I think it\\'s just because it hasn\\'t gone their way.\" She argued, \"All of these petitions and things like that — I think it\\'s disrespectful to the crew, and the writers, and the filmmakers who have worked tirelessly over 10 years, and for 11 months shooting the last season.\"', 'content_type': 'text', 'score': 0.7279477563953604, 'meta': {'name': '410_The_Bells__Game_of_Thrones_.txt'}, 'embedding': None, 'id': '19c5bd265352cb46151fbfc7e8bbaef3'}>,\n",
            "               <Document: {'content': '\\n==TV adaptation==\\nHannah Murray plays the role of Gilly in the television series.\\nGilly is played by English actress Hannah Murray in the television adaption of the series of books.\\nIn an interview, Murray spoke about Gilly\\'s relationship with Sam. Murray stated, \"A big thing that connects them is having horrible fathers. We haven\\'t seen Sam\\'s father, but we know about that in a different way from Gilly, Sam was abused as well.\" She continued, \"She knows that he loves her and she definitely loves him, but she\\'s not someone who can process her emotions very well or has a sophisticated language for them. I\\'ve thought for a long time that they are like this little, unconventional family. He loves the baby as much as she does. John has said, \\'Sam couldn\\'t love it any more if it was his own.\\'\"\\nIn another interview, Murray spoke about her fellow castmember John Bradley, who plays her lover Sam and also about other castmembers on the show, saying \"I’m really good friends with John, and I also have friends who I was friends with before we started the show. I did Skins with Joe Dempsie. My friend Jacob Anderson plays Grey Worm — we used to live together. We shared a flat with another actor. I think we were still living together when Jacob got the part, and I was so happy he was going to join.\"', 'content_type': 'text', 'score': 0.7129633021917784, 'meta': {'name': '262_Gilly__character_.txt'}, 'embedding': None, 'id': 'd2f1984f0bb4626c6ccca3342ee0c49e'}>,\n",
            "               <Document: {'content': \"\\n====Season 3====\\nIn Season 3, Jorah plays an important part in the capture of Yunkai, together with Unsullied commander Grey Worm and Daario Naharis, Lieutenant and leader of the Second Sons. Led by Daario, the trio infiltrates the city and kills a number of Yunkish guards to open a gate, ensuring the capture of Yunkai. Jorah later assists Daenerys and her army in conquering Meereen, and later informs her of Joffrey's death, but at the same time dissuades her from invading King's Landing, since she is not strong enough to take all of Westeros yet. When Daenerys appears to begin a romantic relationship with Daario, Jorah voices his disapproval.\", 'content_type': 'text', 'score': 0.7102566803637985, 'meta': {'name': '28_Jorah_Mormont.txt'}, 'embedding': None, 'id': '54d7985931f0f350e47d01226210b9da'}>],\n",
            " 'no_ans_gap': 9.838982582092285,\n",
            " 'node_id': 'Reader',\n",
            " 'params': {'Reader': {'top_k': 5}, 'Retriever': {'top_k': 5}},\n",
            " 'query': 'Who plays Daenerys?',\n",
            " 'root_node': 'Query'}\n"
          ]
        }
      ]
    }
  ]
}